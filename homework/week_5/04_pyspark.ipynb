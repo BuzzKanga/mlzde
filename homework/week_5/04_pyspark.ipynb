{
 "cells": [
  {
   "cell_type": "code",
   "execution_count": 40,
   "metadata": {},
   "outputs": [],
   "source": [
    "import pandas as pd\n",
    "import pyspark\n",
    "from pyspark.sql import SparkSession"
   ]
  },
  {
   "cell_type": "code",
   "execution_count": 41,
   "metadata": {},
   "outputs": [],
   "source": [
    "pd.DataFrame.iteritems = pd.DataFrame.items"
   ]
  },
  {
   "cell_type": "code",
   "execution_count": 42,
   "metadata": {},
   "outputs": [],
   "source": [
    "spark = SparkSession.builder \\\n",
    "    .master(\"local[*]\") \\\n",
    "    .appName('test') \\\n",
    "    .getOrCreate()"
   ]
  },
  {
   "cell_type": "code",
   "execution_count": 43,
   "metadata": {},
   "outputs": [],
   "source": [
    "# !wget https://github.com/DataTalksClub/nyc-tlc-data/releases/download/fhv/fhv_tripdata_2019-10.csv.gz\n",
    "# !find . -name 'fhv_tripdata_2019-10.csv.gz' -exec gzip -d {} \\;"
   ]
  },
  {
   "cell_type": "code",
   "execution_count": 44,
   "metadata": {},
   "outputs": [
    {
     "name": "stdout",
     "output_type": "stream",
     "text": [
      "1897494 fhv_tripdata_2019-10.csv\n"
     ]
    }
   ],
   "source": [
    "!wc -l fhv_tripdata_2019-10.csv"
   ]
  },
  {
   "cell_type": "code",
   "execution_count": 45,
   "metadata": {},
   "outputs": [],
   "source": [
    "df = spark.read \\\n",
    "    .option(\"header\", \"true\") \\\n",
    "    .csv('fhv_tripdata_2019-10.csv')\n",
    "\n",
    "# df = spark.read \\\n",
    "#     .options( \n",
    "#     header = \"true\", \\\n",
    "#     inferSchema = \"true\" \\\n",
    "#             ) \\\n",
    "#     .csv('fhv_tripdata_2019-10.csv')"
   ]
  },
  {
   "cell_type": "code",
   "execution_count": null,
   "metadata": {},
   "outputs": [],
   "source": [
    "df.head(5)"
   ]
  },
  {
   "cell_type": "code",
   "execution_count": null,
   "metadata": {},
   "outputs": [],
   "source": [
    "!head -n 1001 fhv_tripdata_2019-10.csv > head.csv"
   ]
  },
  {
   "cell_type": "code",
   "execution_count": null,
   "metadata": {},
   "outputs": [],
   "source": [
    "df_pandas = pd.read_csv('head.csv')"
   ]
  },
  {
   "cell_type": "code",
   "execution_count": null,
   "metadata": {},
   "outputs": [],
   "source": [
    "df_pandas.dtypes"
   ]
  },
  {
   "cell_type": "code",
   "execution_count": null,
   "metadata": {},
   "outputs": [],
   "source": [
    "df_pandas"
   ]
  },
  {
   "cell_type": "code",
   "execution_count": null,
   "metadata": {},
   "outputs": [],
   "source": [
    "# Drop column that is causing issues\n",
    "df_pandas.drop(\"Affiliated_base_number\", axis=1, inplace=True)"
   ]
  },
  {
   "cell_type": "code",
   "execution_count": null,
   "metadata": {},
   "outputs": [],
   "source": [
    "spark.createDataFrame(df_pandas)"
   ]
  },
  {
   "cell_type": "code",
   "execution_count": null,
   "metadata": {},
   "outputs": [],
   "source": [
    "spark.createDataFrame(df_pandas).show()"
   ]
  },
  {
   "cell_type": "code",
   "execution_count": 46,
   "metadata": {},
   "outputs": [],
   "source": [
    "from pyspark.sql import types"
   ]
  },
  {
   "cell_type": "code",
   "execution_count": 47,
   "metadata": {},
   "outputs": [],
   "source": [
    "schema = types.StructType([\n",
    "    types.StructField('dispatching_base_num', types.StringType(), True),\n",
    "    types.StructField('pickup_datetime', types.TimestampType(), True),\n",
    "    types.StructField('dropoff_datetime', types.TimestampType(), True),\n",
    "    types.StructField('PULocationID', types.IntegerType(), True),\n",
    "    types.StructField('DOLocationID', types.IntegerType(), True),\n",
    "    types.StructField('SR_Flag', types.StringType(), True)\n",
    "])"
   ]
  },
  {
   "cell_type": "code",
   "execution_count": 48,
   "metadata": {},
   "outputs": [],
   "source": [
    "df = spark.read \\\n",
    "    .option(\"header\", \"true\") \\\n",
    "    .schema(schema) \\\n",
    "    .csv('fhv_tripdata_2019-10.csv')"
   ]
  },
  {
   "cell_type": "code",
   "execution_count": 49,
   "metadata": {},
   "outputs": [],
   "source": [
    "df = df.repartition(6)"
   ]
  },
  {
   "cell_type": "code",
   "execution_count": 50,
   "metadata": {},
   "outputs": [
    {
     "name": "stdout",
     "output_type": "stream",
     "text": [
      "24/03/03 06:24:02 WARN CSVHeaderChecker: Number of column in CSV header is not equal to number of fields in the schema:\n",
      " Header length: 7, schema size: 6\n",
      "CSV file: file:///home/buzzkanga1/code/fhv_tripdata_2019-10.csv\n"
     ]
    },
    {
     "name": "stderr",
     "output_type": "stream",
     "text": [
      "                                                                                \r"
     ]
    }
   ],
   "source": [
    "df.write.mode('overwrite').parquet('fhvhv/2019/10/')"
   ]
  },
  {
   "cell_type": "code",
   "execution_count": 51,
   "metadata": {},
   "outputs": [],
   "source": [
    "df = spark.read.parquet('fhvhv/2019/10/')"
   ]
  },
  {
   "cell_type": "code",
   "execution_count": 52,
   "metadata": {},
   "outputs": [
    {
     "name": "stdout",
     "output_type": "stream",
     "text": [
      "root\n",
      " |-- dispatching_base_num: string (nullable = true)\n",
      " |-- pickup_datetime: timestamp (nullable = true)\n",
      " |-- dropoff_datetime: timestamp (nullable = true)\n",
      " |-- PULocationID: integer (nullable = true)\n",
      " |-- DOLocationID: integer (nullable = true)\n",
      " |-- SR_Flag: string (nullable = true)\n",
      "\n"
     ]
    }
   ],
   "source": [
    "df.printSchema()"
   ]
  },
  {
   "cell_type": "code",
   "execution_count": 53,
   "metadata": {},
   "outputs": [
    {
     "name": "stdout",
     "output_type": "stream",
     "text": [
      "+--------------------+-------------------+-------------------+------------+------------+-------+\n",
      "|dispatching_base_num|    pickup_datetime|   dropoff_datetime|PULocationID|DOLocationID|SR_Flag|\n",
      "+--------------------+-------------------+-------------------+------------+------------+-------+\n",
      "|              B02947|2019-10-05 06:30:00|2019-10-05 06:34:11|         167|          69|   null|\n",
      "|              B01437|2019-10-06 16:05:09|2019-10-06 16:10:16|         264|         134|   null|\n",
      "|     B01467         |2019-10-02 07:15:02|2019-10-02 07:49:28|         193|         157|   null|\n",
      "|              B00459|2019-10-06 17:58:34|2019-10-06 18:05:28|         264|          76|   null|\n",
      "|              B01196|2019-10-01 22:37:52|2019-10-01 22:53:12|         264|         254|   null|\n",
      "|              B00937|2019-10-03 03:13:10|2019-10-03 03:19:57|         264|         243|   null|\n",
      "|              B01083|2019-10-07 17:06:53|2019-10-07 17:10:42|         264|         243|   null|\n",
      "|              B02677|2019-10-03 10:58:09|2019-10-03 11:02:17|         264|          76|   null|\n",
      "|              B01485|2019-10-01 10:31:38|2019-10-01 10:39:06|         264|          72|   null|\n",
      "|              B01626|2019-10-06 17:10:53|2019-10-06 17:14:54|         264|         130|   null|\n",
      "|              B00821|2019-10-04 18:42:49|2019-10-04 19:25:45|         264|          65|   null|\n",
      "|              B03016|2019-10-02 18:35:59|2019-10-02 18:54:55|         264|          78|   null|\n",
      "|              B00014|2019-10-07 06:32:52|2019-10-07 06:45:49|         264|         264|   null|\n",
      "|              B00900|2019-10-02 19:01:28|2019-10-02 19:10:44|         264|         134|   null|\n",
      "|              B01065|2019-10-06 08:48:50|2019-10-06 09:10:21|         264|          78|   null|\n",
      "|              B01367|2019-10-02 17:17:44|2019-10-02 18:02:14|         229|         138|   null|\n",
      "|              B00900|2019-10-07 13:03:31|2019-10-07 13:19:39|         264|         198|   null|\n",
      "|              B01051|2019-10-04 02:50:26|2019-10-04 02:53:26|         264|         126|   null|\n",
      "|              B00445|2019-10-05 19:24:28|2019-10-05 19:33:00|          15|          15|   null|\n",
      "|              B01315|2019-10-05 01:45:28|2019-10-05 01:51:57|         264|         169|   null|\n",
      "+--------------------+-------------------+-------------------+------------+------------+-------+\n",
      "only showing top 20 rows\n",
      "\n"
     ]
    }
   ],
   "source": [
    "df.show()"
   ]
  },
  {
   "cell_type": "code",
   "execution_count": 54,
   "metadata": {},
   "outputs": [
    {
     "name": "stdout",
     "output_type": "stream",
     "text": [
      "+--------------------+-------------------+-------------------+------------+------------+\n",
      "|dispatching_base_num|    pickup_datetime|   dropoff_datetime|PULocationID|DOLocationID|\n",
      "+--------------------+-------------------+-------------------+------------+------------+\n",
      "|              B00256|2019-10-03 12:54:53|2019-10-03 13:30:55|         264|         264|\n",
      "|              B00256|2019-10-03 21:33:19|2019-10-03 22:27:33|         264|         264|\n",
      "|              B00256|2019-10-04 10:45:56|2019-10-04 11:19:49|         264|         264|\n",
      "|              B00256|2019-10-01 14:25:46|2019-10-01 14:48:25|         264|         264|\n",
      "|              B00256|2019-10-05 08:35:36|2019-10-05 08:54:40|         264|         264|\n",
      "|              B00256|2019-10-07 13:17:12|2019-10-07 13:58:16|         264|         264|\n",
      "|              B00256|2019-10-06 13:30:24|2019-10-06 14:10:33|         264|         264|\n",
      "|              B00256|2019-10-03 07:03:45|2019-10-03 07:49:57|         264|         264|\n",
      "|              B00256|2019-10-03 06:03:24|2019-10-03 06:56:38|         264|         264|\n",
      "|              B00256|2019-10-02 09:21:01|2019-10-02 09:58:32|         264|         264|\n",
      "|              B00256|2019-10-07 10:32:10|2019-10-07 11:26:18|         264|         264|\n",
      "|              B00256|2019-10-01 03:45:33|2019-10-01 04:17:48|         264|         264|\n",
      "|              B00256|2019-10-05 09:42:13|2019-10-05 10:06:11|         264|         264|\n",
      "|              B00256|2019-10-02 05:39:53|2019-10-02 05:51:32|         264|         264|\n",
      "|              B00256|2019-10-07 17:45:02|2019-10-07 18:07:57|         264|         264|\n",
      "|              B00256|2019-10-05 21:43:58|2019-10-05 22:16:48|         264|         264|\n",
      "|              B00256|2019-10-05 14:29:36|2019-10-05 15:01:17|         264|         264|\n",
      "|              B00256|2019-10-03 10:27:12|2019-10-03 11:11:02|         264|         264|\n",
      "|              B00256|2019-10-04 19:04:36|2019-10-04 20:26:31|         264|         264|\n",
      "|              B00256|2019-10-03 17:50:53|2019-10-03 18:39:22|         264|         264|\n",
      "+--------------------+-------------------+-------------------+------------+------------+\n",
      "only showing top 20 rows\n",
      "\n"
     ]
    }
   ],
   "source": [
    "df.select('dispatching_base_num','pickup_datetime','dropoff_datetime','PULocationID','DOLocationID').filter(df.dispatching_base_num == 'B00256').show()"
   ]
  },
  {
   "cell_type": "code",
   "execution_count": 55,
   "metadata": {},
   "outputs": [],
   "source": [
    "from pyspark.sql import functions as F"
   ]
  },
  {
   "cell_type": "code",
   "execution_count": null,
   "metadata": {},
   "outputs": [],
   "source": [
    "!head -n 10 head.csv"
   ]
  },
  {
   "cell_type": "code",
   "execution_count": null,
   "metadata": {},
   "outputs": [],
   "source": [
    "# def crazy_stuff(base_num):\n",
    "#     num = int(base_num[1:])\n",
    "#     if num % 7 == 0:\n",
    "#         return f's/{num:03x}'\n",
    "#     elif num % 3 == 0:\n",
    "#         return f'a/{num:03x}'\n",
    "#     else:\n",
    "#         return f'e/{num:03x}'"
   ]
  },
  {
   "cell_type": "code",
   "execution_count": null,
   "metadata": {},
   "outputs": [],
   "source": [
    "# crazy_stuff_udf = F.udf(crazy_stuff, returnType=types.StringType())"
   ]
  },
  {
   "cell_type": "code",
   "execution_count": null,
   "metadata": {},
   "outputs": [],
   "source": [
    "# df \\\n",
    "#     .withColumn('pickup_date', F.to_date(df.pickup_datetime)) \\\n",
    "#     .withColumn('dropoff_date', F.to_date(df.dropoff_datetime)) \\\n",
    "#     .withColumn('base_id', crazy_stuff_udf(df.hvfhs_license_num)) \\\n",
    "#     .select('base_id', 'pickup_date', 'dropoff_date', 'PULocationID', 'DOLocationID') \\\n",
    "#     .show()"
   ]
  },
  {
   "cell_type": "code",
   "execution_count": 66,
   "metadata": {},
   "outputs": [
    {
     "name": "stderr",
     "output_type": "stream",
     "text": [
      "[Stage 20:======================================>                   (4 + 2) / 6]\r"
     ]
    },
    {
     "name": "stdout",
     "output_type": "stream",
     "text": [
      "+--------------------+-------------------+-------------------+-----------+------------+------------------+------------+------------+\n",
      "|dispatching_base_num|    pickup_datetime|   dropoff_datetime|pickup_date|dropoff_date|            length|PULocationID|DOLocationID|\n",
      "+--------------------+-------------------+-------------------+-----------+------------+------------------+------------+------------+\n",
      "|              B02832|2019-10-28 09:00:00|2091-10-28 09:30:00| 2019-10-28|  2091-10-28|          631152.5|         264|         264|\n",
      "|              B02832|2019-10-11 18:00:00|2091-10-11 18:30:00| 2019-10-11|  2091-10-11|          631152.5|         264|         264|\n",
      "|              B02416|2019-10-31 23:46:33|2029-11-01 00:13:00| 2019-10-31|  2029-11-01| 87672.44083333333|        null|        null|\n",
      "|     B00746         |2019-10-01 21:43:42|2027-10-01 21:45:23| 2019-10-01|  2027-10-01| 70128.02805555555|         159|         264|\n",
      "|              B02921|2019-10-17 14:00:00|2020-10-18 00:00:00| 2019-10-17|  2020-10-18|            8794.0|        null|        null|\n",
      "|              B03110|2019-10-26 21:26:00|2020-10-26 21:36:00| 2019-10-26|  2020-10-26| 8784.166666666666|         264|         264|\n",
      "|              B03080|2019-10-30 12:30:04|2019-12-30 13:02:08| 2019-10-30|  2019-12-30|1464.5344444444445|         264|          50|\n",
      "|     B03084         |2019-10-25 07:04:57|2019-12-08 07:54:33| 2019-10-25|  2019-12-08|1056.8266666666666|         168|         235|\n",
      "|     B03084         |2019-10-25 07:04:57|2019-12-08 07:21:11| 2019-10-25|  2019-12-08|1056.2705555555556|         168|         235|\n",
      "|              B01452|2019-10-01 13:47:17|2019-11-03 15:20:28| 2019-10-01|  2019-11-03| 793.5530555555556|          44|         214|\n",
      "|              B01452|2019-10-01 07:21:12|2019-11-03 08:44:21| 2019-10-01|  2019-11-03| 793.3858333333334|           5|           6|\n",
      "|              B01452|2019-10-01 13:41:00|2019-11-03 14:58:51| 2019-10-01|  2019-11-03|          793.2975|         206|         172|\n",
      "|              B01452|2019-10-01 18:43:20|2019-11-03 19:43:13| 2019-10-01|  2019-11-03| 792.9980555555555|          23|           5|\n",
      "|              B01452|2019-10-01 18:43:46|2019-11-03 19:43:04| 2019-10-01|  2019-11-03| 792.9883333333333|         251|          44|\n",
      "|              B01452|2019-10-01 07:07:09|2019-11-03 07:58:46| 2019-10-01|  2019-11-03| 792.8602777777778|         204|          23|\n",
      "|              B01452|2019-10-01 14:49:28|2019-11-03 15:38:07| 2019-10-01|  2019-11-03| 792.8108333333333|         214|         156|\n",
      "|              B01452|2019-10-01 05:36:30|2019-11-03 06:23:36| 2019-10-01|  2019-11-03|           792.785|         214|          84|\n",
      "|              B00972|2019-10-01 15:02:55|2019-11-03 15:49:05| 2019-10-01|  2019-11-03| 792.7694444444444|         204|           1|\n",
      "|              B00972|2019-10-01 06:08:01|2019-11-03 06:53:15| 2019-10-01|  2019-11-03| 792.7538888888889|         156|         204|\n",
      "|              B01452|2019-10-01 06:41:17|2019-11-03 07:26:04| 2019-10-01|  2019-11-03| 792.7463888888889|          44|          23|\n",
      "+--------------------+-------------------+-------------------+-----------+------------+------------------+------------+------------+\n",
      "only showing top 20 rows\n",
      "\n"
     ]
    },
    {
     "name": "stderr",
     "output_type": "stream",
     "text": [
      "                                                                                \r"
     ]
    }
   ],
   "source": [
    "df \\\n",
    "    .withColumn('pickup_date', F.to_date(df.pickup_datetime)) \\\n",
    "    .withColumn('dropoff_date', F.to_date(df.dropoff_datetime)) \\\n",
    "    .withColumn('length', ((df.dropoff_datetime.cast('double') - df.pickup_datetime.cast('double'))/3600)) \\\n",
    "    .sort(F.col('length').desc()) \\\n",
    "    .select('dispatching_base_num', 'pickup_datetime', 'dropoff_datetime', 'pickup_date', 'dropoff_date', 'length', 'PULocationID', 'DOLocationID') \\\n",
    "    .show()"
   ]
  },
  {
   "cell_type": "code",
   "execution_count": null,
   "metadata": {},
   "outputs": [],
   "source": [
    "df.select('dispatching_base_num','pickup_datetime','dropoff_datetime','PULocationID','DOLocationID').filter(df.pickup_datetime >= '2019-10-16').count()"
   ]
  },
  {
   "cell_type": "code",
   "execution_count": null,
   "metadata": {},
   "outputs": [],
   "source": [
    "df.count()"
   ]
  },
  {
   "cell_type": "code",
   "execution_count": null,
   "metadata": {},
   "outputs": [],
   "source": [
    "date = datetime.datetime.strptime(string_date, \"2019-10-15\")"
   ]
  },
  {
   "cell_type": "code",
   "execution_count": null,
   "metadata": {},
   "outputs": [],
   "source": [
    "date.dtypes"
   ]
  },
  {
   "cell_type": "code",
   "execution_count": 77,
   "metadata": {},
   "outputs": [
    {
     "name": "stdout",
     "output_type": "stream",
     "text": [
      "+--------------------+-------------------+-------------------+-----------+------------+-------------------+------------+------------+\n",
      "|dispatching_base_num|    pickup_datetime|   dropoff_datetime|pickup_date|dropoff_date|             length|PULocationID|DOLocationID|\n",
      "+--------------------+-------------------+-------------------+-----------+------------+-------------------+------------+------------+\n",
      "|              B02947|2019-10-05 06:30:00|2019-10-05 06:34:11| 2019-10-05|  2019-10-05|0.06972222222222223|         167|          69|\n",
      "|              B01437|2019-10-06 16:05:09|2019-10-06 16:10:16| 2019-10-06|  2019-10-06|0.08527777777777777|         264|         134|\n",
      "|     B01467         |2019-10-02 07:15:02|2019-10-02 07:49:28| 2019-10-02|  2019-10-02| 0.5738888888888889|         193|         157|\n",
      "|              B00459|2019-10-06 17:58:34|2019-10-06 18:05:28| 2019-10-06|  2019-10-06|              0.115|         264|          76|\n",
      "|              B01196|2019-10-01 22:37:52|2019-10-01 22:53:12| 2019-10-01|  2019-10-01|0.25555555555555554|         264|         254|\n",
      "|              B00937|2019-10-03 03:13:10|2019-10-03 03:19:57| 2019-10-03|  2019-10-03|0.11305555555555556|         264|         243|\n",
      "|              B01083|2019-10-07 17:06:53|2019-10-07 17:10:42| 2019-10-07|  2019-10-07| 0.0636111111111111|         264|         243|\n",
      "|              B02677|2019-10-03 10:58:09|2019-10-03 11:02:17| 2019-10-03|  2019-10-03|0.06888888888888889|         264|          76|\n",
      "|              B01485|2019-10-01 10:31:38|2019-10-01 10:39:06| 2019-10-01|  2019-10-01|0.12444444444444444|         264|          72|\n",
      "|              B01626|2019-10-06 17:10:53|2019-10-06 17:14:54| 2019-10-06|  2019-10-06|0.06694444444444445|         264|         130|\n",
      "|              B00821|2019-10-04 18:42:49|2019-10-04 19:25:45| 2019-10-04|  2019-10-04| 0.7155555555555555|         264|          65|\n",
      "|              B03016|2019-10-02 18:35:59|2019-10-02 18:54:55| 2019-10-02|  2019-10-02|0.31555555555555553|         264|          78|\n",
      "|              B00014|2019-10-07 06:32:52|2019-10-07 06:45:49| 2019-10-07|  2019-10-07|0.21583333333333332|         264|         264|\n",
      "|              B00900|2019-10-02 19:01:28|2019-10-02 19:10:44| 2019-10-02|  2019-10-02|0.15444444444444444|         264|         134|\n",
      "|              B01065|2019-10-06 08:48:50|2019-10-06 09:10:21| 2019-10-06|  2019-10-06| 0.3586111111111111|         264|          78|\n",
      "|              B01367|2019-10-02 17:17:44|2019-10-02 18:02:14| 2019-10-02|  2019-10-02| 0.7416666666666667|         229|         138|\n",
      "|              B00900|2019-10-07 13:03:31|2019-10-07 13:19:39| 2019-10-07|  2019-10-07| 0.2688888888888889|         264|         198|\n",
      "|              B01051|2019-10-04 02:50:26|2019-10-04 02:53:26| 2019-10-04|  2019-10-04|               0.05|         264|         126|\n",
      "|              B00445|2019-10-05 19:24:28|2019-10-05 19:33:00| 2019-10-05|  2019-10-05|0.14222222222222222|          15|          15|\n",
      "|              B01315|2019-10-05 01:45:28|2019-10-05 01:51:57| 2019-10-05|  2019-10-05|0.10805555555555556|         264|         169|\n",
      "+--------------------+-------------------+-------------------+-----------+------------+-------------------+------------+------------+\n",
      "only showing top 20 rows\n",
      "\n",
      "+------------+-----+\n",
      "|PULocationID|count|\n",
      "+------------+-----+\n",
      "|           2|    1|\n",
      "|         105|    2|\n",
      "|         111|    5|\n",
      "|          30|    8|\n",
      "|         120|   14|\n",
      "|          12|   15|\n",
      "|         207|   23|\n",
      "|          27|   25|\n",
      "|         154|   26|\n",
      "|           8|   29|\n",
      "|         128|   39|\n",
      "|         253|   47|\n",
      "|          96|   53|\n",
      "|          34|   57|\n",
      "|          59|   62|\n",
      "|          58|   77|\n",
      "|          99|   89|\n",
      "|         190|   98|\n",
      "|          54|  105|\n",
      "|         217|  110|\n",
      "+------------+-----+\n",
      "only showing top 20 rows\n",
      "\n"
     ]
    }
   ],
   "source": [
    "df \\\n",
    "    .withColumn('pickup_date', F.to_date(df.pickup_datetime)) \\\n",
    "    .withColumn('dropoff_date', F.to_date(df.dropoff_datetime)) \\\n",
    "    .withColumn('length', ((df.dropoff_datetime.cast('double') - df.pickup_datetime.cast('double'))/3600)) \\\n",
    "    .select('dispatching_base_num', 'pickup_datetime', 'dropoff_datetime', 'pickup_date', 'dropoff_date', 'length', 'PULocationID', 'DOLocationID') \\\n",
    "    .show()\n",
    "\n",
    "# Group by PULocationID and count occurrences\n",
    "grouped_df = df.groupBy(F.col('PULocationID')).count()\n",
    "\n",
    "# Sort by count in descending order\n",
    "sorted_grouped_df = grouped_df.orderBy(F.col('count').asc())\n",
    "\n",
    "# Show the results\n",
    "sorted_grouped_df.show()"
   ]
  },
  {
   "cell_type": "code",
   "execution_count": null,
   "metadata": {},
   "outputs": [],
   "source": []
  }
 ],
 "metadata": {
  "kernelspec": {
   "display_name": "Python 3 (ipykernel)",
   "language": "python",
   "name": "python3"
  },
  "language_info": {
   "codemirror_mode": {
    "name": "ipython",
    "version": 3
   },
   "file_extension": ".py",
   "mimetype": "text/x-python",
   "name": "python",
   "nbconvert_exporter": "python",
   "pygments_lexer": "ipython3",
   "version": "3.8.18"
  }
 },
 "nbformat": 4,
 "nbformat_minor": 4
}
